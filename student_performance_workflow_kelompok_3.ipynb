{
 "cells": [
  {
   "cell_type": "markdown",
   "id": "08f0852f",
   "metadata": {},
   "source": [
    "# Student Performance Prediction Workflow (Dataset Asli)\n",
    "\n",
    "Notebook ini menggunakan dataset asli **Student_performance_data _.csv**, dari website kaggle (source) : https://www.kaggle.com/datasets/rabieelkharoua/students-performance-dataset\n",
    "\n",
    "Langkah-langkah:\n",
    "1. Import dataset\n",
    "2. Explorasi awal\n",
    "3. Preprocessing (impute missing, encoding, feature selection)\n",
    "4. Pembuatan label performance (aman/beresiko dari GPA)\n",
    "5. Simpan hasil preprocessing → `data_integration.csv`\n",
    "6. Split train/test\n",
    "7. Training Decision Tree\n",
    "8. Cross Validation\n",
    "9. Evaluasi (Confusion Matrix & Classification Report)\n",
    "10. Visualisasi\n",
    "11. Simpan hasil prediksi → `data_validation.csv`\n"
   ]
  },
  {
   "cell_type": "code",
   "execution_count": null,
   "id": "9727b962",
   "metadata": {},
   "outputs": [],
   "source": [
    "\n",
    "import pandas as pd\n",
    "import numpy as np\n",
    "from sklearn.model_selection import train_test_split, cross_val_score\n",
    "from sklearn.tree import DecisionTreeClassifier\n",
    "from sklearn.metrics import confusion_matrix, classification_report\n",
    "from sklearn.metrics import ConfusionMatrixDisplay\n",
    "import matplotlib.pyplot as plt\n",
    "import seaborn as sns\n",
    "\n",
    "df = pd.read_csv(r\"C:\\Users\\Asadul\\Downloads\\Data Mining Kelompok\\Student_performance_data _.csv\")\n",
    "df.head()\n"
   ]
  },
  {
   "cell_type": "markdown",
   "id": "56fb22a7",
   "metadata": {},
   "source": [
    "Lihat info dataset"
   ]
  },
  {
   "cell_type": "code",
   "execution_count": null,
   "id": "565f36ae",
   "metadata": {},
   "outputs": [],
   "source": [
    "\n",
    "df.info()\n"
   ]
  },
  {
   "cell_type": "markdown",
   "id": "f9cbbf01",
   "metadata": {},
   "source": [
    "Tangani missing values"
   ]
  },
  {
   "cell_type": "code",
   "execution_count": null,
   "id": "905bf10b",
   "metadata": {},
   "outputs": [],
   "source": [
    "for col in df.columns:\n",
    "    if df[col].dtype == \"object\":\n",
    "        df[col] = df[col].fillna(df[col].mode()[0])\n",
    "    else:\n",
    "        df[col] = df[col].fillna(df[col].mean())\n",
    "\n",
    "df.isnull().sum()\n"
   ]
  },
  {
   "cell_type": "markdown",
   "id": "dd75eb0b",
   "metadata": {},
   "source": [
    "Buat kolom performance: Aman (GPA >= 2.5), Beresiko (GPA < 2.5)"
   ]
  },
  {
   "cell_type": "code",
   "execution_count": null,
   "id": "e84a44b4",
   "metadata": {},
   "outputs": [],
   "source": [
    "\n",
    "df[\"performance\"] = np.where(df[\"GPA\"] >= 2.5, \"aman\", \"beresiko\")\n",
    "df[\"performance\"].value_counts()\n"
   ]
  },
  {
   "cell_type": "markdown",
   "id": "841cff0c",
   "metadata": {},
   "source": [
    "Simpan hasil preprocessing"
   ]
  },
  {
   "cell_type": "code",
   "execution_count": null,
   "id": "2e3d4f71",
   "metadata": {},
   "outputs": [],
   "source": [
    "\n",
    "df.to_csv(r\"C:\\Users\\Asadul\\Downloads\\Data Mining Kelompok\\data_integration.csv\", index=False)\n",
    "print(\"data_integration.csv berhasil disimpan!\")\n"
   ]
  },
  {
   "cell_type": "markdown",
   "id": "e5501aab",
   "metadata": {},
   "source": [
    "Drop kolom ID dan Target"
   ]
  },
  {
   "cell_type": "code",
   "execution_count": null,
   "id": "b2fe0cd3",
   "metadata": {},
   "outputs": [],
   "source": [
    "\n",
    "X = df.drop(columns=[\"performance\",\"StudentID\"])  \n",
    "y = df[\"performance\"]\n",
    "X_train, X_test, y_train, y_test = train_test_split(X, y, test_size=0.3, random_state=42)\n"
   ]
  },
  {
   "cell_type": "code",
   "execution_count": null,
   "id": "aa9f0b57",
   "metadata": {},
   "outputs": [],
   "source": [
    "\n",
    "clf = DecisionTreeClassifier(random_state=42)\n",
    "clf.fit(X_train, y_train)\n",
    "y_pred = clf.predict(X_test)\n"
   ]
  },
  {
   "cell_type": "code",
   "execution_count": null,
   "id": "466749fd",
   "metadata": {},
   "outputs": [],
   "source": [
    "\n",
    "scores = cross_val_score(clf, X, y, cv=5)\n",
    "print(\"Cross Validation Scores:\", scores)\n",
    "print(\"Mean Accuracy:\", scores.mean())\n"
   ]
  },
  {
   "cell_type": "code",
   "execution_count": null,
   "id": "776a9ce2",
   "metadata": {},
   "outputs": [],
   "source": [
    "\n",
    "cm = confusion_matrix(y_test, y_pred)\n",
    "report = classification_report(y_test, y_pred)\n",
    "print(\"Confusion Matrix:\\n\", cm)\n",
    "print(\"\\nClassification Report:\\n\", report)\n"
   ]
  },
  {
   "cell_type": "code",
   "execution_count": null,
   "id": "73f16a09",
   "metadata": {},
   "outputs": [],
   "source": [
    "\n",
    "results = pd.DataFrame({\n",
    "    \"y_true\": y_test,\n",
    "    \"y_pred\": y_pred\n",
    "})\n",
    "results.to_csv(r\"C:\\Users\\Asadul\\Downloads\\Data Mining Kelompok\\data_validation.csv\", index=False)\n",
    "print(\"data_validation.csv berhasil disimpan!\")\n"
   ]
  },
  {
   "cell_type": "code",
   "execution_count": null,
   "id": "481a6f02",
   "metadata": {},
   "outputs": [],
   "source": [
    "\n",
    "plt.figure(figsize=(8,5))\n",
    "sns.histplot(df[\"GPA\"], bins=20, kde=True)\n",
    "plt.title(\"Distribusi GPA Mahasiswa\")\n",
    "plt.xlabel(\"GPA\")\n",
    "plt.ylabel(\"Jumlah Mahasiswa\")\n",
    "plt.show()\n"
   ]
  },
  {
   "cell_type": "code",
   "execution_count": null,
   "id": "91d5331f",
   "metadata": {},
   "outputs": [],
   "source": [
    "\n",
    "plt.figure(figsize=(6,4))\n",
    "sns.countplot(x=\"performance\", data=df)\n",
    "plt.title(\"Jumlah Mahasiswa per Kategori Performance\")\n",
    "plt.xlabel(\"Kategori\")\n",
    "plt.ylabel(\"Jumlah\")\n",
    "plt.show()\n"
   ]
  },
  {
   "cell_type": "code",
   "execution_count": null,
   "id": "ee954d74",
   "metadata": {},
   "outputs": [],
   "source": [
    "\n",
    "ConfusionMatrixDisplay.from_estimator(clf, X_test, y_test, cmap=\"Blues\")\n",
    "plt.title(\"Confusion Matrix\")\n",
    "plt.show()\n"
   ]
  },
  {
   "cell_type": "code",
   "execution_count": null,
   "id": "4758c940",
   "metadata": {},
   "outputs": [],
   "source": [
    "\n",
    "feature_importances = clf.feature_importances_\n",
    "features = X.columns\n",
    "sorted_idx = np.argsort(feature_importances)\n",
    "\n",
    "plt.figure(figsize=(10,6))\n",
    "plt.barh(features[sorted_idx], feature_importances[sorted_idx])\n",
    "plt.title(\"Feature Importance - Decision Tree\")\n",
    "plt.xlabel(\"Importance\")\n",
    "plt.show()\n"
   ]
  }
 ],
 "metadata": {
  "kernelspec": {
   "display_name": "Python 3 (ipykernel)",
   "language": "python",
   "name": "python3"
  }
 },
 "nbformat": 4,
 "nbformat_minor": 5
}
